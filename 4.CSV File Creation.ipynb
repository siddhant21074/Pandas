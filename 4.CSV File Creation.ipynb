{
 "cells": [
  {
   "cell_type": "code",
   "execution_count": 1,
   "id": "9a675832",
   "metadata": {},
   "outputs": [],
   "source": [
    "import pandas as pd\n",
    "\n",
    "var = pd.DataFrame({\"A\":[1,2,3,4,5],\"B\":[1,2,3,4,5],\"C\":[1,2,3,4,5]})\n",
    "var\n",
    "\n",
    "# Here we created CSV file named as \"CSV file\" and deleted the default index and column header as \"no1\",\"no2\",\"no3\"\n",
    "\n",
    "# CSV File Creation Syntax\n",
    "\n",
    "# variable name = variable_contain_datafram.to_csv(\"csv file name\")\n",
    "\n",
    "var1 = var.to_csv(\"CSV file \",index = False,header = [\"no1\",\"no2\",\"no3\"])\n"
   ]
  },
  {
   "cell_type": "code",
   "execution_count": 42,
   "id": "74fd7e5f",
   "metadata": {},
   "outputs": [],
   "source": [
    "var2 = pd.DataFrame({\"Name\":[\"Siddhant\",\"Sushant\",\"Uday\",\"Pravin\"],\"Department\":[\"Computer\",\"Computer\",\"Mechanical\",\n",
    "                                                                                 \"Computer \"],\"Roll NO\":[136,95,100,132]})\n",
    "\n",
    "var3 = var2.to_csv(\"CSV FILE3\")\n",
    "\n"
   ]
  }
 ],
 "metadata": {
  "kernelspec": {
   "display_name": "Python 3 (ipykernel)",
   "language": "python",
   "name": "python3"
  },
  "language_info": {
   "codemirror_mode": {
    "name": "ipython",
    "version": 3
   },
   "file_extension": ".py",
   "mimetype": "text/x-python",
   "name": "python",
   "nbconvert_exporter": "python",
   "pygments_lexer": "ipython3",
   "version": "3.11.4"
  }
 },
 "nbformat": 4,
 "nbformat_minor": 5
}
