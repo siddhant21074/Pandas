{
 "cells": [
  {
   "cell_type": "markdown",
   "id": "877e3101",
   "metadata": {},
   "source": [
    "# Function "
   ]
  },
  {
   "cell_type": "markdown",
   "id": "08699cb8",
   "metadata": {},
   "source": [
    "# index Function"
   ]
  },
  {
   "cell_type": "code",
   "execution_count": 29,
   "id": "93bfe2ff",
   "metadata": {},
   "outputs": [
    {
     "data": {
      "text/plain": [
       "RangeIndex(start=0, stop=4, step=1)"
      ]
     },
     "execution_count": 29,
     "metadata": {},
     "output_type": "execute_result"
    }
   ],
   "source": [
    "import pandas as pd\n",
    "\n",
    "var2 = pd.read_csv(\"C:\\\\Users\\\\USER\\\\Documents\\\\Pandas in Python\\\\CSV FILE1\")\n",
    "\n",
    "(var2.index)   # Here it it shows the iteration of index describes the start and stop and step of indexing"
   ]
  },
  {
   "cell_type": "markdown",
   "id": "50c0b148",
   "metadata": {},
   "source": [
    "# column Function"
   ]
  },
  {
   "cell_type": "code",
   "execution_count": 17,
   "id": "da082c93",
   "metadata": {},
   "outputs": [
    {
     "data": {
      "text/plain": [
       "Index(['Name', 'Age', 'Weight'], dtype='object')"
      ]
     },
     "execution_count": 17,
     "metadata": {},
     "output_type": "execute_result"
    }
   ],
   "source": [
    "var3 = pd.read_csv(\"C:\\\\Users\\\\USER\\\\Documents\\\\Pandas in Python\\\\CSV FILE1\")\n",
    "\n",
    "# Here it shows the \"column\" names used OR assigned\n",
    "\n",
    "var3.columns"
   ]
  },
  {
   "cell_type": "markdown",
   "id": "822554c5",
   "metadata": {},
   "source": [
    "# describe() Function"
   ]
  },
  {
   "cell_type": "code",
   "execution_count": 21,
   "id": "e2e4d564",
   "metadata": {},
   "outputs": [
    {
     "data": {
      "text/html": [
       "<div>\n",
       "<style scoped>\n",
       "    .dataframe tbody tr th:only-of-type {\n",
       "        vertical-align: middle;\n",
       "    }\n",
       "\n",
       "    .dataframe tbody tr th {\n",
       "        vertical-align: top;\n",
       "    }\n",
       "\n",
       "    .dataframe thead th {\n",
       "        text-align: right;\n",
       "    }\n",
       "</style>\n",
       "<table border=\"1\" class=\"dataframe\">\n",
       "  <thead>\n",
       "    <tr style=\"text-align: right;\">\n",
       "      <th></th>\n",
       "      <th>Age</th>\n",
       "      <th>Weight</th>\n",
       "    </tr>\n",
       "  </thead>\n",
       "  <tbody>\n",
       "    <tr>\n",
       "      <th>count</th>\n",
       "      <td>4.000000</td>\n",
       "      <td>4.000000</td>\n",
       "    </tr>\n",
       "    <tr>\n",
       "      <th>mean</th>\n",
       "      <td>21.250000</td>\n",
       "      <td>58.000000</td>\n",
       "    </tr>\n",
       "    <tr>\n",
       "      <th>std</th>\n",
       "      <td>1.258306</td>\n",
       "      <td>6.055301</td>\n",
       "    </tr>\n",
       "    <tr>\n",
       "      <th>min</th>\n",
       "      <td>20.000000</td>\n",
       "      <td>54.000000</td>\n",
       "    </tr>\n",
       "    <tr>\n",
       "      <th>25%</th>\n",
       "      <td>20.750000</td>\n",
       "      <td>54.750000</td>\n",
       "    </tr>\n",
       "    <tr>\n",
       "      <th>50%</th>\n",
       "      <td>21.000000</td>\n",
       "      <td>55.500000</td>\n",
       "    </tr>\n",
       "    <tr>\n",
       "      <th>75%</th>\n",
       "      <td>21.500000</td>\n",
       "      <td>58.750000</td>\n",
       "    </tr>\n",
       "    <tr>\n",
       "      <th>max</th>\n",
       "      <td>23.000000</td>\n",
       "      <td>67.000000</td>\n",
       "    </tr>\n",
       "  </tbody>\n",
       "</table>\n",
       "</div>"
      ],
      "text/plain": [
       "             Age     Weight\n",
       "count   4.000000   4.000000\n",
       "mean   21.250000  58.000000\n",
       "std     1.258306   6.055301\n",
       "min    20.000000  54.000000\n",
       "25%    20.750000  54.750000\n",
       "50%    21.000000  55.500000\n",
       "75%    21.500000  58.750000\n",
       "max    23.000000  67.000000"
      ]
     },
     "execution_count": 21,
     "metadata": {},
     "output_type": "execute_result"
    }
   ],
   "source": [
    "var4 = pd.read_csv(\"C:\\\\Users\\\\USER\\\\Documents\\\\Pandas in Python\\\\CSV FILE1\")\n",
    "\n",
    "# Here it divides and showcases  the data into min max and percentages   \n",
    "\n",
    "var4.describe()"
   ]
  },
  {
   "cell_type": "markdown",
   "id": "4609f6f6",
   "metadata": {},
   "source": [
    "# head() Function"
   ]
  },
  {
   "cell_type": "code",
   "execution_count": 33,
   "id": "71649dca",
   "metadata": {},
   "outputs": [
    {
     "name": "stdout",
     "output_type": "stream",
     "text": [
      "       Name  Age  Weight\n",
      "0  Siddhant   20      55\n",
      "1   Santosh   21      56\n",
      "2        Om   21      54\n",
      "3       Sai   23      67\n",
      "\n",
      "       Name  Age  Weight\n",
      "0  Siddhant   20      55\n",
      "1   Santosh   21      56\n"
     ]
    }
   ],
   "source": [
    "var5 = pd.read_csv(\"C:\\\\Users\\\\USER\\\\Documents\\\\Pandas in Python\\\\CSV FILE1\")\n",
    "print(var5.head())\n",
    "\n",
    "# Here it displayes the first five element of data - By default\n",
    "# AND if we pass a parameter then that number of data is showed\n",
    "\n",
    "print()\n",
    "\n",
    "print(var5.head(2))"
   ]
  },
  {
   "cell_type": "markdown",
   "id": "6b8907fe",
   "metadata": {},
   "source": [
    "# tail Function"
   ]
  },
  {
   "cell_type": "code",
   "execution_count": 41,
   "id": "d91dbec3",
   "metadata": {},
   "outputs": [
    {
     "data": {
      "text/html": [
       "<div>\n",
       "<style scoped>\n",
       "    .dataframe tbody tr th:only-of-type {\n",
       "        vertical-align: middle;\n",
       "    }\n",
       "\n",
       "    .dataframe tbody tr th {\n",
       "        vertical-align: top;\n",
       "    }\n",
       "\n",
       "    .dataframe thead th {\n",
       "        text-align: right;\n",
       "    }\n",
       "</style>\n",
       "<table border=\"1\" class=\"dataframe\">\n",
       "  <thead>\n",
       "    <tr style=\"text-align: right;\">\n",
       "      <th></th>\n",
       "      <th>Name</th>\n",
       "      <th>Age</th>\n",
       "      <th>Weight</th>\n",
       "    </tr>\n",
       "  </thead>\n",
       "  <tbody>\n",
       "    <tr>\n",
       "      <th>0</th>\n",
       "      <td>Siddhant</td>\n",
       "      <td>20</td>\n",
       "      <td>55</td>\n",
       "    </tr>\n",
       "  </tbody>\n",
       "</table>\n",
       "</div>"
      ],
      "text/plain": [
       "       Name  Age  Weight\n",
       "0  Siddhant   20      55"
      ]
     },
     "execution_count": 41,
     "metadata": {},
     "output_type": "execute_result"
    }
   ],
   "source": [
    "# It showcase the data from downside of file data and Behave same it terms of head\n",
    "\n",
    "var6 = pd.read_csv(\"C:\\\\Users\\\\USER\\\\Documents\\\\Pandas in Python\\\\CSV FILE1\")\n",
    "var6.tail(1) \n",
    "\n",
    "# Here it showcases the data 1 from downside of file data bydefault 5 elements\n",
    " "
   ]
  },
  {
   "cell_type": "markdown",
   "id": "e41dd329",
   "metadata": {},
   "source": [
    "# Range Indexing"
   ]
  },
  {
   "cell_type": "code",
   "execution_count": 43,
   "id": "6ca779fa",
   "metadata": {},
   "outputs": [
    {
     "data": {
      "text/html": [
       "<div>\n",
       "<style scoped>\n",
       "    .dataframe tbody tr th:only-of-type {\n",
       "        vertical-align: middle;\n",
       "    }\n",
       "\n",
       "    .dataframe tbody tr th {\n",
       "        vertical-align: top;\n",
       "    }\n",
       "\n",
       "    .dataframe thead th {\n",
       "        text-align: right;\n",
       "    }\n",
       "</style>\n",
       "<table border=\"1\" class=\"dataframe\">\n",
       "  <thead>\n",
       "    <tr style=\"text-align: right;\">\n",
       "      <th></th>\n",
       "      <th>Name</th>\n",
       "      <th>Age</th>\n",
       "      <th>Weight</th>\n",
       "    </tr>\n",
       "  </thead>\n",
       "  <tbody>\n",
       "    <tr>\n",
       "      <th>1</th>\n",
       "      <td>Santosh</td>\n",
       "      <td>21</td>\n",
       "      <td>56</td>\n",
       "    </tr>\n",
       "    <tr>\n",
       "      <th>2</th>\n",
       "      <td>Om</td>\n",
       "      <td>21</td>\n",
       "      <td>54</td>\n",
       "    </tr>\n",
       "  </tbody>\n",
       "</table>\n",
       "</div>"
      ],
      "text/plain": [
       "      Name  Age  Weight\n",
       "1  Santosh   21      56\n",
       "2       Om   21      54"
      ]
     },
     "execution_count": 43,
     "metadata": {},
     "output_type": "execute_result"
    }
   ],
   "source": [
    "var6[1:3]\n",
    "# Here the data from the 1 to \"2\" is displayed (1:3-1)\n"
   ]
  },
  {
   "cell_type": "markdown",
   "id": "b54107bb",
   "metadata": {},
   "source": [
    "# index to ARRAY conversion"
   ]
  },
  {
   "cell_type": "code",
   "execution_count": 45,
   "id": "7b529cc1",
   "metadata": {},
   "outputs": [
    {
     "data": {
      "text/plain": [
       "<PandasArray>\n",
       "[0, 1, 2, 3]\n",
       "Length: 4, dtype: int64"
      ]
     },
     "execution_count": 45,
     "metadata": {},
     "output_type": "execute_result"
    }
   ],
   "source": [
    "var6.index.array\n",
    "# Here we converted the index of CSV file variable into \"ARRAY\""
   ]
  },
  {
   "cell_type": "markdown",
   "id": "a81fcb61",
   "metadata": {},
   "source": [
    "# CSV to NUMPUY Conversion"
   ]
  },
  {
   "cell_type": "code",
   "execution_count": 50,
   "id": "3c7f6803",
   "metadata": {},
   "outputs": [
    {
     "data": {
      "text/plain": [
       "<bound method DataFrame.to_numpy of        Name  Age  Weight\n",
       "0  Siddhant   20      55\n",
       "1   Santosh   21      56\n",
       "2        Om   21      54\n",
       "3       Sai   23      67>"
      ]
     },
     "execution_count": 50,
     "metadata": {},
     "output_type": "execute_result"
    }
   ],
   "source": [
    "var6.to_numpy\n",
    "\n",
    "# Here we converted the dataframe of csv file to and \"NUMPY\" Data\n"
   ]
  },
  {
   "cell_type": "markdown",
   "id": "34c32b82",
   "metadata": {},
   "source": [
    "# sort_index() function"
   ]
  },
  {
   "cell_type": "code",
   "execution_count": 53,
   "id": "1702654f",
   "metadata": {},
   "outputs": [
    {
     "data": {
      "text/html": [
       "<div>\n",
       "<style scoped>\n",
       "    .dataframe tbody tr th:only-of-type {\n",
       "        vertical-align: middle;\n",
       "    }\n",
       "\n",
       "    .dataframe tbody tr th {\n",
       "        vertical-align: top;\n",
       "    }\n",
       "\n",
       "    .dataframe thead th {\n",
       "        text-align: right;\n",
       "    }\n",
       "</style>\n",
       "<table border=\"1\" class=\"dataframe\">\n",
       "  <thead>\n",
       "    <tr style=\"text-align: right;\">\n",
       "      <th></th>\n",
       "      <th>Name</th>\n",
       "      <th>Age</th>\n",
       "      <th>Weight</th>\n",
       "    </tr>\n",
       "  </thead>\n",
       "  <tbody>\n",
       "    <tr>\n",
       "      <th>3</th>\n",
       "      <td>Sai</td>\n",
       "      <td>23</td>\n",
       "      <td>67</td>\n",
       "    </tr>\n",
       "    <tr>\n",
       "      <th>2</th>\n",
       "      <td>Om</td>\n",
       "      <td>21</td>\n",
       "      <td>54</td>\n",
       "    </tr>\n",
       "    <tr>\n",
       "      <th>1</th>\n",
       "      <td>Santosh</td>\n",
       "      <td>21</td>\n",
       "      <td>56</td>\n",
       "    </tr>\n",
       "    <tr>\n",
       "      <th>0</th>\n",
       "      <td>Siddhant</td>\n",
       "      <td>20</td>\n",
       "      <td>55</td>\n",
       "    </tr>\n",
       "  </tbody>\n",
       "</table>\n",
       "</div>"
      ],
      "text/plain": [
       "       Name  Age  Weight\n",
       "3       Sai   23      67\n",
       "2        Om   21      54\n",
       "1   Santosh   21      56\n",
       "0  Siddhant   20      55"
      ]
     },
     "execution_count": 53,
     "metadata": {},
     "output_type": "execute_result"
    }
   ],
   "source": [
    "var6.sort_index(axis = 0,ascending = False)\n",
    "\n",
    "# Here we sorted the data into decending order using sort function"
   ]
  },
  {
   "cell_type": "markdown",
   "id": "44e04769",
   "metadata": {},
   "source": [
    "# loc() function"
   ]
  },
  {
   "cell_type": "code",
   "execution_count": 57,
   "id": "5d6d5dd3",
   "metadata": {},
   "outputs": [
    {
     "data": {
      "text/html": [
       "<div>\n",
       "<style scoped>\n",
       "    .dataframe tbody tr th:only-of-type {\n",
       "        vertical-align: middle;\n",
       "    }\n",
       "\n",
       "    .dataframe tbody tr th {\n",
       "        vertical-align: top;\n",
       "    }\n",
       "\n",
       "    .dataframe thead th {\n",
       "        text-align: right;\n",
       "    }\n",
       "</style>\n",
       "<table border=\"1\" class=\"dataframe\">\n",
       "  <thead>\n",
       "    <tr style=\"text-align: right;\">\n",
       "      <th></th>\n",
       "      <th>Name</th>\n",
       "      <th>Age</th>\n",
       "      <th>Weight</th>\n",
       "    </tr>\n",
       "  </thead>\n",
       "  <tbody>\n",
       "    <tr>\n",
       "      <th>0</th>\n",
       "      <td>Vishnu</td>\n",
       "      <td>20</td>\n",
       "      <td>55</td>\n",
       "    </tr>\n",
       "    <tr>\n",
       "      <th>1</th>\n",
       "      <td>Santosh</td>\n",
       "      <td>21</td>\n",
       "      <td>56</td>\n",
       "    </tr>\n",
       "    <tr>\n",
       "      <th>2</th>\n",
       "      <td>Om</td>\n",
       "      <td>21</td>\n",
       "      <td>54</td>\n",
       "    </tr>\n",
       "    <tr>\n",
       "      <th>3</th>\n",
       "      <td>Sai</td>\n",
       "      <td>23</td>\n",
       "      <td>67</td>\n",
       "    </tr>\n",
       "  </tbody>\n",
       "</table>\n",
       "</div>"
      ],
      "text/plain": [
       "      Name  Age  Weight\n",
       "0   Vishnu   20      55\n",
       "1  Santosh   21      56\n",
       "2       Om   21      54\n",
       "3      Sai   23      67"
      ]
     },
     "execution_count": 57,
     "metadata": {},
     "output_type": "execute_result"
    }
   ],
   "source": [
    "var6.loc[0,\"Name\"] = \"Vishnu\"  # Initially the name was \"siddhant\" we changed it into \"vishnu\" using loc()function\n",
    "var6"
   ]
  },
  {
   "cell_type": "code",
   "execution_count": 60,
   "id": "a9f221c3",
   "metadata": {},
   "outputs": [
    {
     "data": {
      "text/html": [
       "<div>\n",
       "<style scoped>\n",
       "    .dataframe tbody tr th:only-of-type {\n",
       "        vertical-align: middle;\n",
       "    }\n",
       "\n",
       "    .dataframe tbody tr th {\n",
       "        vertical-align: top;\n",
       "    }\n",
       "\n",
       "    .dataframe thead th {\n",
       "        text-align: right;\n",
       "    }\n",
       "</style>\n",
       "<table border=\"1\" class=\"dataframe\">\n",
       "  <thead>\n",
       "    <tr style=\"text-align: right;\">\n",
       "      <th></th>\n",
       "      <th>Name</th>\n",
       "      <th>Age</th>\n",
       "    </tr>\n",
       "  </thead>\n",
       "  <tbody>\n",
       "    <tr>\n",
       "      <th>0</th>\n",
       "      <td>Vishnu</td>\n",
       "      <td>20</td>\n",
       "    </tr>\n",
       "    <tr>\n",
       "      <th>1</th>\n",
       "      <td>Santosh</td>\n",
       "      <td>21</td>\n",
       "    </tr>\n",
       "  </tbody>\n",
       "</table>\n",
       "</div>"
      ],
      "text/plain": [
       "      Name  Age\n",
       "0   Vishnu   20\n",
       "1  Santosh   21"
      ]
     },
     "execution_count": 60,
     "metadata": {},
     "output_type": "execute_result"
    }
   ],
   "source": [
    "# loc() function can also be used for acessing the data element from the data\n",
    "\n",
    "var6.loc[[0,1],[\"Name\",\"Age\"]]\n",
    "\n",
    "# Here we acessed the data member from 0 to 1 of \"Name\" and \"Age\" using loc"
   ]
  },
  {
   "cell_type": "markdown",
   "id": "1108af11",
   "metadata": {},
   "source": [
    "# iloc Function"
   ]
  },
  {
   "cell_type": "code",
   "execution_count": 67,
   "id": "f11e5b04",
   "metadata": {},
   "outputs": [
    {
     "data": {
      "text/plain": [
       "21"
      ]
     },
     "execution_count": 67,
     "metadata": {},
     "output_type": "execute_result"
    }
   ],
   "source": [
    "var6.iloc[0,0]  \n",
    "var6.iloc[1,1]\n",
    "# Here it access the element index wise \n",
    "# accessed the data from 0th column and 0th row"
   ]
  },
  {
   "cell_type": "markdown",
   "id": "2fae64a7",
   "metadata": {},
   "source": [
    "# drop Function"
   ]
  },
  {
   "cell_type": "code",
   "execution_count": 75,
   "id": "84d204d0",
   "metadata": {},
   "outputs": [
    {
     "data": {
      "text/html": [
       "<div>\n",
       "<style scoped>\n",
       "    .dataframe tbody tr th:only-of-type {\n",
       "        vertical-align: middle;\n",
       "    }\n",
       "\n",
       "    .dataframe tbody tr th {\n",
       "        vertical-align: top;\n",
       "    }\n",
       "\n",
       "    .dataframe thead th {\n",
       "        text-align: right;\n",
       "    }\n",
       "</style>\n",
       "<table border=\"1\" class=\"dataframe\">\n",
       "  <thead>\n",
       "    <tr style=\"text-align: right;\">\n",
       "      <th></th>\n",
       "      <th>Age</th>\n",
       "      <th>Weight</th>\n",
       "    </tr>\n",
       "  </thead>\n",
       "  <tbody>\n",
       "    <tr>\n",
       "      <th>0</th>\n",
       "      <td>20</td>\n",
       "      <td>55</td>\n",
       "    </tr>\n",
       "    <tr>\n",
       "      <th>1</th>\n",
       "      <td>21</td>\n",
       "      <td>56</td>\n",
       "    </tr>\n",
       "    <tr>\n",
       "      <th>2</th>\n",
       "      <td>21</td>\n",
       "      <td>54</td>\n",
       "    </tr>\n",
       "    <tr>\n",
       "      <th>3</th>\n",
       "      <td>23</td>\n",
       "      <td>67</td>\n",
       "    </tr>\n",
       "  </tbody>\n",
       "</table>\n",
       "</div>"
      ],
      "text/plain": [
       "   Age  Weight\n",
       "0   20      55\n",
       "1   21      56\n",
       "2   21      54\n",
       "3   23      67"
      ]
     },
     "execution_count": 75,
     "metadata": {},
     "output_type": "execute_result"
    }
   ],
   "source": [
    "# This function is used  to delete the column and row from the data\n",
    "\n",
    "var6.drop([\"Name\"],axis = 1)  \n"
   ]
  }
 ],
 "metadata": {
  "kernelspec": {
   "display_name": "Python 3 (ipykernel)",
   "language": "python",
   "name": "python3"
  },
  "language_info": {
   "codemirror_mode": {
    "name": "ipython",
    "version": 3
   },
   "file_extension": ".py",
   "mimetype": "text/x-python",
   "name": "python",
   "nbconvert_exporter": "python",
   "pygments_lexer": "ipython3",
   "version": "3.11.4"
  }
 },
 "nbformat": 4,
 "nbformat_minor": 5
}
