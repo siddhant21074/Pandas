{
 "cells": [
  {
   "cell_type": "markdown",
   "id": "09370906",
   "metadata": {},
   "source": [
    "# Series"
   ]
  },
  {
   "cell_type": "code",
   "execution_count": 1,
   "id": "fd83d804",
   "metadata": {},
   "outputs": [
    {
     "name": "stdout",
     "output_type": "stream",
     "text": [
      "Name :     [Siddhant, Rahul, Uday]\n",
      "Roll :             [136, 143, 123]\n",
      "Age :                 [20, 21, 20]\n",
      "dtype: object\n"
     ]
    }
   ],
   "source": [
    "import pandas as pd\n",
    "\n",
    "data = {\"Name : \":[\"Siddhant\",\"Rahul\",\"Uday\"],\"Roll : \":[136,143,123],\"Age : \":[20,21,20],}\n",
    "\n",
    "v = pd.Series(data)\n",
    "print(v)"
   ]
  },
  {
   "cell_type": "markdown",
   "id": "6dc32e4f",
   "metadata": {},
   "source": [
    "\n",
    "# Dataframes"
   ]
  },
  {
   "cell_type": "code",
   "execution_count": 7,
   "id": "e4bd6360",
   "metadata": {},
   "outputs": [
    {
     "name": "stdout",
     "output_type": "stream",
     "text": [
      "   0\n",
      "0  1\n",
      "1  2\n",
      "2  3\n",
      "3  4\n",
      "4  5\n",
      "<class 'pandas.core.frame.DataFrame'>\n"
     ]
    }
   ],
   "source": [
    "#Using lists\n",
    "\n",
    "import pandas as pd\n",
    "l = [1,2,3,4,5]\n",
    "var = pd.DataFrame(l)\n",
    "print(var)\n",
    "print(type(var))\n",
    "\n"
   ]
  },
  {
   "cell_type": "code",
   "execution_count": 9,
   "id": "b84ad4b2",
   "metadata": {},
   "outputs": [
    {
     "name": "stdout",
     "output_type": "stream",
     "text": [
      "   key1  key2\n",
      "0     1     6\n",
      "1     2     7\n",
      "2     3     8\n",
      "3     4     9\n",
      "4     5    10\n"
     ]
    }
   ],
   "source": [
    "# Using Dictionaries\n",
    "\n",
    "d = {\"key1\":[1,2,3,4,5],\"key2\":[6,7,8,9,10]}\n",
    "var1 = pd.DataFrame(d)\n",
    "print(var1)"
   ]
  },
  {
   "cell_type": "code",
   "execution_count": 4,
   "id": "9c500cdd",
   "metadata": {},
   "outputs": [
    {
     "name": "stdout",
     "output_type": "stream",
     "text": [
      "   key1\n",
      "0     1\n",
      "1     2\n",
      "2     3\n",
      "3     4\n",
      "4     5\n",
      "\n",
      "   key1  key2\n",
      "a     1     6\n",
      "b     2     7\n",
      "c     3     8\n",
      "d     4     9\n",
      "e     5    10\n"
     ]
    }
   ],
   "source": [
    "import pandas as pd\n",
    "d1 = {\"key1\":[1,2,3,4,5],\"key2\":[6,7,8,9,10]}\n",
    "var2 = pd.DataFrame(d1,columns = [\"key1\"])      # Here we can print the required column that we want by using column attribute\n",
    "var3 = pd.DataFrame(d1,index = [\"a\",\"b\",\"c\",\"d\",\"e\"])  # Here we can change the index format using the index attribute\n",
    "\n",
    "print(var2)\n",
    "print()\n",
    "print(var3)"
   ]
  },
  {
   "cell_type": "code",
   "execution_count": 15,
   "id": "8dcc152a",
   "metadata": {},
   "outputs": [
    {
     "name": "stdout",
     "output_type": "stream",
     "text": [
      "1\n"
     ]
    }
   ],
   "source": [
    "n = {\"one\":[1,2,3,4],\"two\":[5,6,7,8]}\n",
    "var4 = pd.DataFrame(n)\n",
    "print(var4[\"one\"][0])   # Here we can actually access the required element that we want from the dataframe\n",
    "                        # Syntax - var name [key name][position of element]"
   ]
  },
  {
   "cell_type": "code",
   "execution_count": 36,
   "id": "48c0df04",
   "metadata": {},
   "outputs": [
    {
     "name": "stdout",
     "output_type": "stream",
     "text": [
      "             0      1       2       3\n",
      "Name  siddhant  sahil  srusti  sandip\n",
      "Age         20     20      21      22\n"
     ]
    }
   ],
   "source": [
    "num = [[\"siddhant\",\"sahil\",\"srusti\",\"sandip\"],[20,20,21,22,]]\n",
    "v = pd.DataFrame(num,index = [\"Name\",\"Age\"])\n",
    "\n",
    "\n",
    "print(v)"
   ]
  }
 ],
 "metadata": {
  "kernelspec": {
   "display_name": "Python 3 (ipykernel)",
   "language": "python",
   "name": "python3"
  },
  "language_info": {
   "codemirror_mode": {
    "name": "ipython",
    "version": 3
   },
   "file_extension": ".py",
   "mimetype": "text/x-python",
   "name": "python",
   "nbconvert_exporter": "python",
   "pygments_lexer": "ipython3",
   "version": "3.11.4"
  }
 },
 "nbformat": 4,
 "nbformat_minor": 5
}
